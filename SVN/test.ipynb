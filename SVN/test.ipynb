{
 "cells": [
  {
   "cell_type": "markdown",
   "metadata": {},
   "source": [
    "# SVM Quadratic Programming Example\n",
    "\n",
    "In the quadratic programming problem, we aim to find $\\textbf{x}$ satisfying\n",
    "$$ \\begin{array}{rl} \\text{min}_{\\textbf{x}} & \\frac{1}{2}\\textbf{x}^\\top \\texttt{Q} \\textbf{x} + \\textbf{c}^\\top\\textbf{x} \\\\ \\text{subject to} & \\texttt{A}\\textbf{x} \\le \\textbf{b} \\\\\n",
    "& \\texttt{E}\\textbf{x} = \\textbf{d} .\\end{array}$$\n",
    "\n",
    "We can use cvxopt packages in Python as follows. I'm using a little wrappers from\n",
    "[this nice blog about QP in Python](https://scaron.info/blog/quadratic-programming-in-python.html).\n",
    "\n",
    "To install on Ubuntu, you'll want to do\n",
    "\n",
    "    % pip3 install cvxopt\n",
    "\n",
    "## A wrapper for cvxopt\n",
    "\n",
    "Once cvxopt is installed, we can define a function `cvxopt_solv_qp()` to find $\\textbf{x}^*$:"
   ]
  },
  {
   "cell_type": "code",
   "execution_count": 1,
   "metadata": {},
   "outputs": [],
   "source": [
    "import numpy as np\n",
    "import cvxopt\n",
    "\n",
    "def cvxopt_solve_qp(Q, c, A=None, b=None, E=None, d=None):\n",
    "    Q = .5 * (Q + Q.T)  # make sure Q is symmetric\n",
    "    args = [cvxopt.matrix(Q), cvxopt.matrix(c)]\n",
    "    if A is not None:\n",
    "        args.extend([cvxopt.matrix(A), cvxopt.matrix(b)])\n",
    "        if E is not None:\n",
    "            args.extend([cvxopt.matrix(E), cvxopt.matrix(d)])\n",
    "    sol = cvxopt.solvers.qp(*args)\n",
    "    if 'optimal' not in sol['status']:\n",
    "        return None\n",
    "    return np.array(sol['x']).reshape((Q.shape[1],))"
   ]
  },
  {
   "cell_type": "markdown",
   "metadata": {},
   "source": [
    "Note that cvxopt uses its own data type for the matrix inputs, so we have to convert the numpy matrices to cvxopt matrices.\n",
    "\n",
    "## Example problem\n",
    "\n",
    "Anyway, given this solver function, let's try to solve a simple example such as the one from the blog mentioned above:\n",
    "\n",
    "$$\\begin{array}{rl} \\min_{\\textbf{x}} & \\left\\| \\begin{bmatrix} 1 & 2 & 0 \\\\ -8 & 3 & 2 \\\\ 0 & 1 & 1 \\end{bmatrix} \\begin{bmatrix} x_1 \\\\ x_2 \\\\ x_3 \\end{bmatrix}-\\begin{bmatrix} 3 \\\\ 2 \\\\ 3 \\end{bmatrix} \\right\\|^2 \\\\\n",
    "\\text{subject to} & \\begin{bmatrix} 1 & 2 & 1 \\\\ 2 & 0 & 1 \\\\ -1 & 2 & -1 \\end{bmatrix} \\begin{bmatrix} x_1 \\\\ x_2 \\\\ x_3 \\end{bmatrix} \\le \\begin{bmatrix} 3 \\\\ 2 \\\\ -2 \\end{bmatrix} \\end{array} $$"
   ]
  },
  {
   "cell_type": "code",
   "execution_count": 2,
   "metadata": {},
   "outputs": [
    {
     "name": "stdout",
     "output_type": "stream",
     "text": [
      "Cvxopt solution:\n",
      "     pcost       dcost       gap    pres   dres\n",
      " 0: -3.2822e+00 -9.6005e+00  6e+00  5e-17  9e-01\n",
      " 1: -6.9907e+00 -8.3734e+00  1e+00  3e-16  3e-01\n",
      " 2: -1.0434e+01 -1.1566e+01  1e+00  2e-16  5e-16\n",
      " 3: -1.0492e+01 -1.0506e+01  1e-02  2e-16  5e-16\n",
      " 4: -1.0495e+01 -1.0495e+01  1e-04  2e-16  3e-16\n",
      " 5: -1.0495e+01 -1.0495e+01  1e-06  3e-16  2e-16\n",
      "Optimal solution found.\n"
     ]
    },
    {
     "data": {
      "text/plain": [
       "array([-0.49025721, -1.57755278, -0.66484775])"
      ]
     },
     "execution_count": 2,
     "metadata": {},
     "output_type": "execute_result"
    }
   ],
   "source": [
    "# Convert problem to standard representation 1/2 x.T Q x + c.T x s.t A x <= b\n",
    "# and solve with cvxopt\n",
    "\n",
    "M = np.array([[1., 2., 0.], [-8., 3., 2.], [0., 1., 1.]])\n",
    "Q = M.T @ M\n",
    "c = (np.array([3., 2., 3.]) @ M).reshape((3,))\n",
    "A = np.array([[1., 2., 1.], [2., 0., 1.], [-1., 2., -1.]])\n",
    "b = np.array([3., 2., -2.]).reshape((3,))\n",
    "\n",
    "print(\"Cvxopt solution:\")\n",
    "cvxopt_solve_qp(Q, c, A, b)"
   ]
  },
  {
   "cell_type": "markdown",
   "metadata": {},
   "source": [
    "## Example of finding the maximum margin hyperplane\n",
    "\n",
    "OK, now let's try to use cvxopt to find the maximum margin hyperplane separating two classes.\n",
    "\n",
    "Suppose we want to predict whether a person is male or female based on their height and weight.\n",
    "\n",
    "I generated some fake data for heights and weights and planted 3 points to force a maximum margin hyperplane of\n",
    "\n",
    "$$\\mathbf{w}^* = \\begin{bmatrix} 0.64018 \\\\ 0.76822 \\end{bmatrix} \\; \\; \\; b^* = -153.32 .$$"
   ]
  },
  {
   "cell_type": "code",
   "execution_count": 3,
   "metadata": {},
   "outputs": [
    {
     "data": {
      "image/png": "[encoded data removed]",
      "text/plain": [
       "<Figure size 432x288 with 1 Axes>"
      ]
     },
     "metadata": {
      "needs_background": "light"
     },
     "output_type": "display_data"
    }
   ],
   "source": [
    "import matplotlib.pyplot as plt\n",
    "\n",
    "Xf = np.matrix([[ 164.939, 163.431, 157.554, 152.785, 156.385, 159.242, 156.281, 164.411, 157.308, 159.579 ],\n",
    "                [  56.927,  48.945,  45.678,  45.969,  40.896,  46.848,  42.225,  42.380,  42.150,  49.739 ]]).T;\n",
    "Xm = np.matrix([[ 168.524, 171.597, 179.469, 176.063, 180.939, 177.011, 183.284, 180.549, 176.502, 185.392 ],\n",
    "                [  64.353,  61.793,  74.552,  69.851,  74.730,  75.871,  79.170,  79.753,  64.923,  73.665 ]]).T;\n",
    "X = np.concatenate([Xf, Xm],0);\n",
    "y = np.concatenate([-np.matrix(np.ones([10,1])),np.matrix(np.ones([10,1]))]);\n",
    "\n",
    "def plot_mf(Xf,Xm):\n",
    "    axes = plt.axes()\n",
    "    females_series = plt.scatter(np.array(Xf[:,0]), np.array(Xf[:,1]), s=30, c='b', marker='o', label='Females')\n",
    "    males_series = plt.scatter(np.array(Xm[:,0]), np.array(Xm[:,1]), s=30, c='y', marker='o', label='Males')\n",
    "    axes.set_aspect('equal', 'datalim')\n",
    "    plt.xlabel('Height')\n",
    "    plt.ylabel('Weight')\n",
    "    plt.title('Height-weight data for males and females (fake data!)')\n",
    "    plt.legend(handles=[females_series, males_series], bbox_to_anchor=(1.05, 1), loc=2, borderaxespad=0.)\n",
    "    return axes\n",
    "\n",
    "axes = plot_mf(Xf,Xm)"
   ]
  },
  {
   "cell_type": "markdown",
   "metadata": {},
   "source": [
    "We now know that the SVM optimization problem in the linearly separable case is to\n",
    "find $\\mathbf{w},b$ satisfying\n",
    "$$ \\begin{array}{rl} \\min_{\\mathbf{w},b} & \\|\\mathbf{w}\\| \\\\\n",
    "                     \\text{subject to} & y^{(i)}(\\mathbf{w}^\\top\\mathbf{x}^{(i)}+b)\\ge 1, i \\in 1..m\n",
    "   \\end{array}\n",
    "$$\n",
    "\n",
    "Hopefully you can see that to cast this problem as a QP problem, for the objective function, we just let\n",
    "$$ \\mathtt{Q} = \\begin{bmatrix} 1 & 0 & 0 \\\\ 0 & 1 & 0 \\\\ 0 & 0 & 0 \\end{bmatrix} \\; \\; \\;\n",
    "   \\mathbf{c} = \\begin{bmatrix} 0 \\\\ 0 \\\\ 0 \\end{bmatrix} $$\n",
    "\n",
    "$$\\mathtt{A} = \\begin{bmatrix} -y^{(1)}\\mathbf{x}^{(1)\\top} & -y^{(1)} \\\\\n",
    "                               -y^{(2)}\\mathbf{x}^{(2)\\top} & -y^{(2)} \\\\\n",
    "                               \\vdots & \\vdots \\end{bmatrix} \\;\\;\\;\n",
    "  \\mathbf{b} = \\begin{bmatrix} -1 \\\\ -1 \\\\ \\vdots \\end{bmatrix} $$\n",
    "\n",
    "Next we use cvxopt to find the optimal w and b:"
   ]
  },
  {
   "cell_type": "code",
   "execution_count": 4,
   "metadata": {},
   "outputs": [
    {
     "name": "stdout",
     "output_type": "stream",
     "text": [
      "     pcost       dcost       gap    pres   dres\n",
      " 0:  1.4721e-03  6.5053e+00  5e+01  2e+00  4e+02\n",
      " 1:  1.0012e-02 -4.7161e+00  1e+01  6e-01  1e+02\n",
      " 2:  2.6180e-02 -4.8172e+00  7e+00  2e-01  6e+01\n",
      " 3:  3.9767e-02 -4.5363e-01  5e-01  1e-02  2e+00\n",
      " 4:  3.5404e-02  1.8200e-02  2e-02  5e-15  9e-14\n",
      " 5:  3.1392e-02  3.0877e-02  5e-04  5e-15  6e-13\n",
      " 6:  3.1250e-02  3.1245e-02  5e-06  6e-15  2e-13\n",
      " 7:  3.1249e-02  3.1248e-02  5e-08  5e-15  2e-13\n",
      "Optimal solution found.\n",
      "Optimal w: [0.640061 0.768324] b: -153.309495\n"
     ]
    }
   ],
   "source": [
    "Q = np.eye(3);\n",
    "Q[2,2] = 0;\n",
    "c = np.zeros([3])\n",
    "A = np.multiply(np.tile(-y,[1, 3]), np.concatenate([X, np.ones([20,1])],1))\n",
    "b = -np.ones([20])\n",
    "x = cvxopt_solve_qp(Q, c, A, b);\n",
    "w = np.matrix([[x[0]],[x[1]]]);\n",
    "b = x[2];\n",
    "scale = np.linalg.norm(w);\n",
    "w = w / scale;\n",
    "b = b / scale;\n",
    "print('Optimal w: [%f %f] b: %f' % (w[0,0],w[1,0],b));"
   ]
  },
  {
   "cell_type": "markdown",
   "metadata": {},
   "source": [
    "Now let's plot $\\mathbf{w}$ and $b$ with the data:"
   ]
  },
  {
   "cell_type": "code",
   "execution_count": 5,
   "metadata": {},
   "outputs": [
    {
     "data": {
      "image/png": "[encoded data removed]",
      "text/plain": [
       "<Figure size 432x288 with 1 Axes>"
      ]
     },
     "metadata": {
      "needs_background": "light"
     },
     "output_type": "display_data"
    }
   ],
   "source": [
    "def plot_w(w, b, axes):\n",
    "    ylim = axes.get_ylim()\n",
    "    xlim = axes.get_xlim()\n",
    "    p1 = (xlim[0], - (w[0,0] * xlim[0] + b) / w[1,0])\n",
    "    p2 = (xlim[1], - (w[0,0] * xlim[1] + b) / w[1,0])\n",
    "    plt.plot((p1[0],p2[0]), (p1[1],p2[1]), 'r-')\n",
    "\n",
    "axes = plot_mf(Xf, Xm)\n",
    "plot_w(w, b, axes)"
   ]
  },
  {
   "cell_type": "code",
   "execution_count": null,
   "metadata": {},
   "outputs": [],
   "source": []
  }
 ],
 "metadata": {
  "kernelspec": {
   "display_name": "Python 3.9.6 64-bit",
   "language": "python",
   "name": "python3"
  },
  "language_info": {
   "codemirror_mode": {
    "name": "ipython",
    "version": 3
   },
   "file_extension": ".py",
   "mimetype": "text/x-python",
   "name": "python",
   "nbconvert_exporter": "python",
   "pygments_lexer": "ipython3",
   "version": "3.9.6"
  },
  "vscode": {
   "interpreter": {
    "hash": "aee8b7b246df8f9039afb4144a1f6fd8d2ca17a180786b69acc140d282b71a49"
   }
  }
 },
 "nbformat": 4,
 "nbformat_minor": 4
}
